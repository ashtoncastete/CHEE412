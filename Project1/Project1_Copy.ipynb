{
 "cells": [
  {
   "cell_type": "markdown",
   "metadata": {},
   "source": [
    "# CHEE 426 Project 1 - Demo 2\n",
    "\n",
    "## Note: \n",
    "This version of the Project 1 Example Notebook (demo 2) implements the **pandas.get_dummies() function to convert categorical variable to numeric via One-Hot Encoding**.\n",
    "\n",
    "Spring 2024\n",
    "\n",
    "This is a demonstration of how to work on the Project 1. Use this notebook as a guide or template.\n",
    "\n",
    "This is based on the textbook notebook for Chapter 2.\n",
    "\n",
    "Name: Nemo D. Smart\n",
    "ULID: C009999999"
   ]
  },
  {
   "cell_type": "markdown",
   "metadata": {
    "jp-MarkdownHeadingCollapsed": true
   },
   "source": [
    "## Problem Statement:\n",
    "\n",
    "This Project 1 for the course is the application of the concepts and techniques for the materials covered in Chapter 1 and 2. The problem you have to solve is to develop a regression model for the prediction of CO emissions of light-duty vehicles by training on the fuel economy dataset collected by US-EPA for vehicle model year 2024. "
   ]
  },
  {
   "cell_type": "markdown",
   "metadata": {},
   "source": [
    "## Import Python Modules (packages) \n",
    "Packages are where we will get functions to use in the workflow."
   ]
  },
  {
   "cell_type": "code",
   "execution_count": 1,
   "metadata": {},
   "outputs": [],
   "source": [
    "# Make sure that the Kernel you are using is the environment you created for this project.\n",
    "# Any imports of Pyhton modules may result to error if your Kernel is not your intended environment\n",
    "#\n",
    "# The current Kernel is shown i the Upper-right corner of this notebook.\n",
    "# To change Kernel: Menu > Kernel > Change Kernel... > click drop-down and select the name of the environment you created for the project\n",
    "# The default Kernel in a Jupyter Notebook is the base(root) Python\n",
    "\n",
    "\n",
    "import pandas as pd\n",
    "import numpy as np\n",
    "\n",
    "import seaborn as sns\n",
    "from matplotlib import pyplot as plt\n",
    "%matplotlib inline"
   ]
  },
  {
   "cell_type": "markdown",
   "metadata": {},
   "source": [
    "## Import Data"
   ]
  },
  {
   "cell_type": "code",
   "execution_count": 2,
   "metadata": {},
   "outputs": [
    {
     "data": {
      "text/plain": [
       "3114"
      ]
     },
     "execution_count": 2,
     "metadata": {},
     "output_type": "execute_result"
    }
   ],
   "source": [
    "# Make sure the the CSV file of the data 'proj1data.csv' is in the same folder as this notebook file.\n",
    "\n",
    "df = pd.read_csv('proj1data.csv')\n",
    "len(df)"
   ]
  },
  {
   "cell_type": "markdown",
   "metadata": {},
   "source": [
    "## Preprocess and Prepare Data"
   ]
  },
  {
   "cell_type": "code",
   "execution_count": 3,
   "metadata": {},
   "outputs": [
    {
     "data": {
      "text/html": [
       "<div>\n",
       "<style scoped>\n",
       "    .dataframe tbody tr th:only-of-type {\n",
       "        vertical-align: middle;\n",
       "    }\n",
       "\n",
       "    .dataframe tbody tr th {\n",
       "        vertical-align: top;\n",
       "    }\n",
       "\n",
       "    .dataframe thead th {\n",
       "        text-align: right;\n",
       "    }\n",
       "</style>\n",
       "<table border=\"1\" class=\"dataframe\">\n",
       "  <thead>\n",
       "    <tr style=\"text-align: right;\">\n",
       "      <th></th>\n",
       "      <th>Model Year</th>\n",
       "      <th>Vehicle Manufacturer Name</th>\n",
       "      <th>Veh Mfr Code</th>\n",
       "      <th>Represented Test Veh Make</th>\n",
       "      <th>Represented Test Veh Model</th>\n",
       "      <th>Test Vehicle ID</th>\n",
       "      <th>Test Veh Configuration #</th>\n",
       "      <th>Test Veh Displacement (L)</th>\n",
       "      <th>Actual Tested Testgroup</th>\n",
       "      <th>Vehicle Type</th>\n",
       "      <th>...</th>\n",
       "      <th>Set Coef A (lbf)</th>\n",
       "      <th>Set Coef B (lbf/mph)</th>\n",
       "      <th>Set Coef C (lbf/mph**2)</th>\n",
       "      <th>Aftertreatment Device Cd</th>\n",
       "      <th>Aftertreatment Device Desc</th>\n",
       "      <th>Police - Emergency Vehicle?</th>\n",
       "      <th>Averaging Group ID</th>\n",
       "      <th>Averaging Weighting Factor</th>\n",
       "      <th>Averaging Method Cd</th>\n",
       "      <th>Averging Method Desc</th>\n",
       "    </tr>\n",
       "  </thead>\n",
       "  <tbody>\n",
       "    <tr>\n",
       "      <th>0</th>\n",
       "      <td>2024</td>\n",
       "      <td>aston martin</td>\n",
       "      <td>ASX</td>\n",
       "      <td>Aston Martin</td>\n",
       "      <td>DB12 V8</td>\n",
       "      <td>5723PT5601</td>\n",
       "      <td>0</td>\n",
       "      <td>4.0</td>\n",
       "      <td>RASXV04.0AES</td>\n",
       "      <td>Car</td>\n",
       "      <td>...</td>\n",
       "      <td>5.67</td>\n",
       "      <td>0.0083</td>\n",
       "      <td>0.0221</td>\n",
       "      <td>TWC</td>\n",
       "      <td>Three-way catalyst</td>\n",
       "      <td>N</td>\n",
       "      <td>NaN</td>\n",
       "      <td>NaN</td>\n",
       "      <td>N</td>\n",
       "      <td>No averaging</td>\n",
       "    </tr>\n",
       "    <tr>\n",
       "      <th>1</th>\n",
       "      <td>2024</td>\n",
       "      <td>aston martin</td>\n",
       "      <td>ASX</td>\n",
       "      <td>Aston Martin</td>\n",
       "      <td>DB12 V8</td>\n",
       "      <td>5723PT5601</td>\n",
       "      <td>0</td>\n",
       "      <td>4.0</td>\n",
       "      <td>RASXV04.0AES</td>\n",
       "      <td>Car</td>\n",
       "      <td>...</td>\n",
       "      <td>5.67</td>\n",
       "      <td>0.0083</td>\n",
       "      <td>0.0221</td>\n",
       "      <td>TWC</td>\n",
       "      <td>Three-way catalyst</td>\n",
       "      <td>N</td>\n",
       "      <td>NaN</td>\n",
       "      <td>NaN</td>\n",
       "      <td>N</td>\n",
       "      <td>No averaging</td>\n",
       "    </tr>\n",
       "    <tr>\n",
       "      <th>2</th>\n",
       "      <td>2024</td>\n",
       "      <td>aston martin</td>\n",
       "      <td>ASX</td>\n",
       "      <td>Aston Martin</td>\n",
       "      <td>DBX</td>\n",
       "      <td>8001PT8342</td>\n",
       "      <td>1</td>\n",
       "      <td>4.0</td>\n",
       "      <td>MASXJ04.0AEX</td>\n",
       "      <td>Both</td>\n",
       "      <td>...</td>\n",
       "      <td>-4.88</td>\n",
       "      <td>-0.5318</td>\n",
       "      <td>0.0367</td>\n",
       "      <td>TWC</td>\n",
       "      <td>Three-way catalyst</td>\n",
       "      <td>N</td>\n",
       "      <td>NaN</td>\n",
       "      <td>NaN</td>\n",
       "      <td>N</td>\n",
       "      <td>No averaging</td>\n",
       "    </tr>\n",
       "    <tr>\n",
       "      <th>3</th>\n",
       "      <td>2024</td>\n",
       "      <td>aston martin</td>\n",
       "      <td>ASX</td>\n",
       "      <td>Aston Martin</td>\n",
       "      <td>DBX</td>\n",
       "      <td>8001PT8342</td>\n",
       "      <td>1</td>\n",
       "      <td>4.0</td>\n",
       "      <td>MASXJ04.0AEX</td>\n",
       "      <td>Both</td>\n",
       "      <td>...</td>\n",
       "      <td>-4.88</td>\n",
       "      <td>-0.5318</td>\n",
       "      <td>0.0367</td>\n",
       "      <td>TWC</td>\n",
       "      <td>Three-way catalyst</td>\n",
       "      <td>N</td>\n",
       "      <td>NaN</td>\n",
       "      <td>NaN</td>\n",
       "      <td>N</td>\n",
       "      <td>No averaging</td>\n",
       "    </tr>\n",
       "    <tr>\n",
       "      <th>4</th>\n",
       "      <td>2024</td>\n",
       "      <td>aston martin</td>\n",
       "      <td>ASX</td>\n",
       "      <td>Aston Martin</td>\n",
       "      <td>DBX 707</td>\n",
       "      <td>8841PT8473</td>\n",
       "      <td>0</td>\n",
       "      <td>4.0</td>\n",
       "      <td>PASXJ04.0AEX</td>\n",
       "      <td>Both</td>\n",
       "      <td>...</td>\n",
       "      <td>-4.88</td>\n",
       "      <td>-0.5318</td>\n",
       "      <td>0.0367</td>\n",
       "      <td>TWC</td>\n",
       "      <td>Three-way catalyst</td>\n",
       "      <td>N</td>\n",
       "      <td>NaN</td>\n",
       "      <td>NaN</td>\n",
       "      <td>N</td>\n",
       "      <td>No averaging</td>\n",
       "    </tr>\n",
       "  </tbody>\n",
       "</table>\n",
       "<p>5 rows × 67 columns</p>\n",
       "</div>"
      ],
      "text/plain": [
       "   Model Year Vehicle Manufacturer Name Veh Mfr Code  \\\n",
       "0        2024              aston martin          ASX   \n",
       "1        2024              aston martin          ASX   \n",
       "2        2024              aston martin          ASX   \n",
       "3        2024              aston martin          ASX   \n",
       "4        2024              aston martin          ASX   \n",
       "\n",
       "  Represented Test Veh Make Represented Test Veh Model Test Vehicle ID  \\\n",
       "0              Aston Martin                    DB12 V8      5723PT5601   \n",
       "1              Aston Martin                    DB12 V8      5723PT5601   \n",
       "2              Aston Martin                        DBX      8001PT8342   \n",
       "3              Aston Martin                        DBX      8001PT8342   \n",
       "4              Aston Martin                    DBX 707      8841PT8473   \n",
       "\n",
       "   Test Veh Configuration #  Test Veh Displacement (L)  \\\n",
       "0                         0                        4.0   \n",
       "1                         0                        4.0   \n",
       "2                         1                        4.0   \n",
       "3                         1                        4.0   \n",
       "4                         0                        4.0   \n",
       "\n",
       "  Actual Tested Testgroup Vehicle Type  ...  Set Coef A (lbf)  \\\n",
       "0            RASXV04.0AES          Car  ...              5.67   \n",
       "1            RASXV04.0AES          Car  ...              5.67   \n",
       "2            MASXJ04.0AEX         Both  ...             -4.88   \n",
       "3            MASXJ04.0AEX         Both  ...             -4.88   \n",
       "4            PASXJ04.0AEX         Both  ...             -4.88   \n",
       "\n",
       "   Set Coef B (lbf/mph) Set Coef C (lbf/mph**2) Aftertreatment Device Cd  \\\n",
       "0                0.0083                  0.0221                      TWC   \n",
       "1                0.0083                  0.0221                      TWC   \n",
       "2               -0.5318                  0.0367                      TWC   \n",
       "3               -0.5318                  0.0367                      TWC   \n",
       "4               -0.5318                  0.0367                      TWC   \n",
       "\n",
       "  Aftertreatment Device Desc  Police - Emergency Vehicle? Averaging Group ID  \\\n",
       "0         Three-way catalyst                            N                NaN   \n",
       "1         Three-way catalyst                            N                NaN   \n",
       "2         Three-way catalyst                            N                NaN   \n",
       "3         Three-way catalyst                            N                NaN   \n",
       "4         Three-way catalyst                            N                NaN   \n",
       "\n",
       "  Averaging Weighting Factor Averaging Method Cd  Averging Method Desc  \n",
       "0                        NaN                   N          No averaging  \n",
       "1                        NaN                   N          No averaging  \n",
       "2                        NaN                   N          No averaging  \n",
       "3                        NaN                   N          No averaging  \n",
       "4                        NaN                   N          No averaging  \n",
       "\n",
       "[5 rows x 67 columns]"
      ]
     },
     "execution_count": 3,
     "metadata": {},
     "output_type": "execute_result"
    }
   ],
   "source": [
    "df.head()"
   ]
  },
  {
   "cell_type": "code",
   "execution_count": 4,
   "metadata": {},
   "outputs": [
    {
     "data": {
      "text/html": [
       "<div>\n",
       "<style scoped>\n",
       "    .dataframe tbody tr th:only-of-type {\n",
       "        vertical-align: middle;\n",
       "    }\n",
       "\n",
       "    .dataframe tbody tr th {\n",
       "        vertical-align: top;\n",
       "    }\n",
       "\n",
       "    .dataframe thead th {\n",
       "        text-align: right;\n",
       "    }\n",
       "</style>\n",
       "<table border=\"1\" class=\"dataframe\">\n",
       "  <thead>\n",
       "    <tr style=\"text-align: right;\">\n",
       "      <th></th>\n",
       "      <th>Model Year</th>\n",
       "      <th>Test Veh Configuration #</th>\n",
       "      <th>Test Veh Displacement (L)</th>\n",
       "      <th>Rated Horsepower</th>\n",
       "      <th># of Cylinders and Rotors</th>\n",
       "      <th># of Gears</th>\n",
       "      <th>Transmission Overdrive Code</th>\n",
       "      <th>Equivalent Test Weight (lbs.)</th>\n",
       "      <th>Axle Ratio</th>\n",
       "      <th>N/V Ratio</th>\n",
       "      <th>...</th>\n",
       "      <th>DT-Inertia Work Ratio Rating</th>\n",
       "      <th>DT-Absolute Speed Change Ratg</th>\n",
       "      <th>DT-Energy Economy Rating</th>\n",
       "      <th>Target Coef A (lbf)</th>\n",
       "      <th>Target Coef B (lbf/mph)</th>\n",
       "      <th>Target Coef C (lbf/mph**2)</th>\n",
       "      <th>Set Coef A (lbf)</th>\n",
       "      <th>Set Coef B (lbf/mph)</th>\n",
       "      <th>Set Coef C (lbf/mph**2)</th>\n",
       "      <th>Averaging Weighting Factor</th>\n",
       "    </tr>\n",
       "  </thead>\n",
       "  <tbody>\n",
       "    <tr>\n",
       "      <th>count</th>\n",
       "      <td>3114.0</td>\n",
       "      <td>3114.000000</td>\n",
       "      <td>3114.000000</td>\n",
       "      <td>3114.000000</td>\n",
       "      <td>2804.000000</td>\n",
       "      <td>3114.000000</td>\n",
       "      <td>3114.000000</td>\n",
       "      <td>3114.000000</td>\n",
       "      <td>3114.000000</td>\n",
       "      <td>3114.000000</td>\n",
       "      <td>...</td>\n",
       "      <td>2727.000000</td>\n",
       "      <td>2727.000000</td>\n",
       "      <td>2727.000000</td>\n",
       "      <td>3114.000000</td>\n",
       "      <td>3114.000000</td>\n",
       "      <td>3114.000000</td>\n",
       "      <td>3114.000000</td>\n",
       "      <td>3114.000000</td>\n",
       "      <td>3114.000000</td>\n",
       "      <td>30.0</td>\n",
       "    </tr>\n",
       "    <tr>\n",
       "      <th>mean</th>\n",
       "      <td>2024.0</td>\n",
       "      <td>0.963712</td>\n",
       "      <td>3.051075</td>\n",
       "      <td>325.179512</td>\n",
       "      <td>5.320613</td>\n",
       "      <td>6.222222</td>\n",
       "      <td>1.880539</td>\n",
       "      <td>4619.259794</td>\n",
       "      <td>3.717335</td>\n",
       "      <td>36.857097</td>\n",
       "      <td>...</td>\n",
       "      <td>0.750037</td>\n",
       "      <td>0.649714</td>\n",
       "      <td>-0.019784</td>\n",
       "      <td>40.338904</td>\n",
       "      <td>0.230551</td>\n",
       "      <td>0.024290</td>\n",
       "      <td>7.490115</td>\n",
       "      <td>0.095152</td>\n",
       "      <td>0.036705</td>\n",
       "      <td>0.5</td>\n",
       "    </tr>\n",
       "    <tr>\n",
       "      <th>std</th>\n",
       "      <td>0.0</td>\n",
       "      <td>1.360365</td>\n",
       "      <td>6.205191</td>\n",
       "      <td>162.167750</td>\n",
       "      <td>1.747203</td>\n",
       "      <td>3.215277</td>\n",
       "      <td>0.324382</td>\n",
       "      <td>926.264950</td>\n",
       "      <td>1.333419</td>\n",
       "      <td>45.531206</td>\n",
       "      <td>...</td>\n",
       "      <td>5.061298</td>\n",
       "      <td>4.519930</td>\n",
       "      <td>3.938619</td>\n",
       "      <td>12.493341</td>\n",
       "      <td>0.313074</td>\n",
       "      <td>0.006794</td>\n",
       "      <td>13.136019</td>\n",
       "      <td>0.451339</td>\n",
       "      <td>0.357501</td>\n",
       "      <td>0.0</td>\n",
       "    </tr>\n",
       "    <tr>\n",
       "      <th>min</th>\n",
       "      <td>2024.0</td>\n",
       "      <td>0.000000</td>\n",
       "      <td>0.001000</td>\n",
       "      <td>78.000000</td>\n",
       "      <td>3.000000</td>\n",
       "      <td>1.000000</td>\n",
       "      <td>1.000000</td>\n",
       "      <td>2375.000000</td>\n",
       "      <td>1.000000</td>\n",
       "      <td>17.300000</td>\n",
       "      <td>...</td>\n",
       "      <td>-20.603852</td>\n",
       "      <td>-17.317730</td>\n",
       "      <td>-5.440000</td>\n",
       "      <td>16.280000</td>\n",
       "      <td>-0.739000</td>\n",
       "      <td>0.011878</td>\n",
       "      <td>-65.390000</td>\n",
       "      <td>-1.975200</td>\n",
       "      <td>-0.090640</td>\n",
       "      <td>0.5</td>\n",
       "    </tr>\n",
       "    <tr>\n",
       "      <th>25%</th>\n",
       "      <td>2024.0</td>\n",
       "      <td>0.000000</td>\n",
       "      <td>2.000000</td>\n",
       "      <td>189.000000</td>\n",
       "      <td>4.000000</td>\n",
       "      <td>1.000000</td>\n",
       "      <td>2.000000</td>\n",
       "      <td>4000.000000</td>\n",
       "      <td>3.200000</td>\n",
       "      <td>23.600000</td>\n",
       "      <td>...</td>\n",
       "      <td>-0.748716</td>\n",
       "      <td>-0.534738</td>\n",
       "      <td>-0.556251</td>\n",
       "      <td>31.350000</td>\n",
       "      <td>0.033650</td>\n",
       "      <td>0.019200</td>\n",
       "      <td>0.280000</td>\n",
       "      <td>-0.032700</td>\n",
       "      <td>0.018430</td>\n",
       "      <td>0.5</td>\n",
       "    </tr>\n",
       "    <tr>\n",
       "      <th>50%</th>\n",
       "      <td>2024.0</td>\n",
       "      <td>1.000000</td>\n",
       "      <td>2.487000</td>\n",
       "      <td>295.000000</td>\n",
       "      <td>4.000000</td>\n",
       "      <td>8.000000</td>\n",
       "      <td>2.000000</td>\n",
       "      <td>4500.000000</td>\n",
       "      <td>3.470000</td>\n",
       "      <td>25.900000</td>\n",
       "      <td>...</td>\n",
       "      <td>0.490000</td>\n",
       "      <td>0.317743</td>\n",
       "      <td>-0.118000</td>\n",
       "      <td>38.520000</td>\n",
       "      <td>0.202660</td>\n",
       "      <td>0.023060</td>\n",
       "      <td>9.100000</td>\n",
       "      <td>0.095495</td>\n",
       "      <td>0.022380</td>\n",
       "      <td>0.5</td>\n",
       "    </tr>\n",
       "    <tr>\n",
       "      <th>75%</th>\n",
       "      <td>2024.0</td>\n",
       "      <td>1.000000</td>\n",
       "      <td>3.456000</td>\n",
       "      <td>400.000000</td>\n",
       "      <td>6.000000</td>\n",
       "      <td>8.000000</td>\n",
       "      <td>2.000000</td>\n",
       "      <td>5250.000000</td>\n",
       "      <td>3.890000</td>\n",
       "      <td>29.075000</td>\n",
       "      <td>...</td>\n",
       "      <td>1.800000</td>\n",
       "      <td>1.270000</td>\n",
       "      <td>0.209315</td>\n",
       "      <td>47.000000</td>\n",
       "      <td>0.409450</td>\n",
       "      <td>0.027880</td>\n",
       "      <td>15.331000</td>\n",
       "      <td>0.226480</td>\n",
       "      <td>0.027456</td>\n",
       "      <td>0.5</td>\n",
       "    </tr>\n",
       "    <tr>\n",
       "      <th>max</th>\n",
       "      <td>2024.0</td>\n",
       "      <td>13.000000</td>\n",
       "      <td>99.999000</td>\n",
       "      <td>1839.000000</td>\n",
       "      <td>16.000000</td>\n",
       "      <td>10.000000</td>\n",
       "      <td>2.000000</td>\n",
       "      <td>9000.000000</td>\n",
       "      <td>9.990000</td>\n",
       "      <td>999.900000</td>\n",
       "      <td>...</td>\n",
       "      <td>99.990000</td>\n",
       "      <td>99.990000</td>\n",
       "      <td>99.990000</td>\n",
       "      <td>93.000000</td>\n",
       "      <td>1.376970</td>\n",
       "      <td>0.057570</td>\n",
       "      <td>99.999000</td>\n",
       "      <td>9.999990</td>\n",
       "      <td>9.999999</td>\n",
       "      <td>0.5</td>\n",
       "    </tr>\n",
       "  </tbody>\n",
       "</table>\n",
       "<p>8 rows × 38 columns</p>\n",
       "</div>"
      ],
      "text/plain": [
       "       Model Year  Test Veh Configuration #  Test Veh Displacement (L)  \\\n",
       "count      3114.0               3114.000000                3114.000000   \n",
       "mean       2024.0                  0.963712                   3.051075   \n",
       "std           0.0                  1.360365                   6.205191   \n",
       "min        2024.0                  0.000000                   0.001000   \n",
       "25%        2024.0                  0.000000                   2.000000   \n",
       "50%        2024.0                  1.000000                   2.487000   \n",
       "75%        2024.0                  1.000000                   3.456000   \n",
       "max        2024.0                 13.000000                  99.999000   \n",
       "\n",
       "       Rated Horsepower  # of Cylinders and Rotors   # of Gears  \\\n",
       "count       3114.000000                2804.000000  3114.000000   \n",
       "mean         325.179512                   5.320613     6.222222   \n",
       "std          162.167750                   1.747203     3.215277   \n",
       "min           78.000000                   3.000000     1.000000   \n",
       "25%          189.000000                   4.000000     1.000000   \n",
       "50%          295.000000                   4.000000     8.000000   \n",
       "75%          400.000000                   6.000000     8.000000   \n",
       "max         1839.000000                  16.000000    10.000000   \n",
       "\n",
       "       Transmission Overdrive Code  Equivalent Test Weight (lbs.)  \\\n",
       "count                  3114.000000                    3114.000000   \n",
       "mean                      1.880539                    4619.259794   \n",
       "std                       0.324382                     926.264950   \n",
       "min                       1.000000                    2375.000000   \n",
       "25%                       2.000000                    4000.000000   \n",
       "50%                       2.000000                    4500.000000   \n",
       "75%                       2.000000                    5250.000000   \n",
       "max                       2.000000                    9000.000000   \n",
       "\n",
       "        Axle Ratio    N/V Ratio  ...  DT-Inertia Work Ratio Rating  \\\n",
       "count  3114.000000  3114.000000  ...                   2727.000000   \n",
       "mean      3.717335    36.857097  ...                      0.750037   \n",
       "std       1.333419    45.531206  ...                      5.061298   \n",
       "min       1.000000    17.300000  ...                    -20.603852   \n",
       "25%       3.200000    23.600000  ...                     -0.748716   \n",
       "50%       3.470000    25.900000  ...                      0.490000   \n",
       "75%       3.890000    29.075000  ...                      1.800000   \n",
       "max       9.990000   999.900000  ...                     99.990000   \n",
       "\n",
       "       DT-Absolute Speed Change Ratg  DT-Energy Economy Rating  \\\n",
       "count                    2727.000000               2727.000000   \n",
       "mean                        0.649714                 -0.019784   \n",
       "std                         4.519930                  3.938619   \n",
       "min                       -17.317730                 -5.440000   \n",
       "25%                        -0.534738                 -0.556251   \n",
       "50%                         0.317743                 -0.118000   \n",
       "75%                         1.270000                  0.209315   \n",
       "max                        99.990000                 99.990000   \n",
       "\n",
       "       Target Coef A (lbf)  Target Coef B (lbf/mph)  \\\n",
       "count          3114.000000              3114.000000   \n",
       "mean             40.338904                 0.230551   \n",
       "std              12.493341                 0.313074   \n",
       "min              16.280000                -0.739000   \n",
       "25%              31.350000                 0.033650   \n",
       "50%              38.520000                 0.202660   \n",
       "75%              47.000000                 0.409450   \n",
       "max              93.000000                 1.376970   \n",
       "\n",
       "       Target Coef C (lbf/mph**2)  Set Coef A (lbf)  Set Coef B (lbf/mph)  \\\n",
       "count                 3114.000000       3114.000000           3114.000000   \n",
       "mean                     0.024290          7.490115              0.095152   \n",
       "std                      0.006794         13.136019              0.451339   \n",
       "min                      0.011878        -65.390000             -1.975200   \n",
       "25%                      0.019200          0.280000             -0.032700   \n",
       "50%                      0.023060          9.100000              0.095495   \n",
       "75%                      0.027880         15.331000              0.226480   \n",
       "max                      0.057570         99.999000              9.999990   \n",
       "\n",
       "       Set Coef C (lbf/mph**2)  Averaging Weighting Factor  \n",
       "count              3114.000000                        30.0  \n",
       "mean                  0.036705                         0.5  \n",
       "std                   0.357501                         0.0  \n",
       "min                  -0.090640                         0.5  \n",
       "25%                   0.018430                         0.5  \n",
       "50%                   0.022380                         0.5  \n",
       "75%                   0.027456                         0.5  \n",
       "max                   9.999999                         0.5  \n",
       "\n",
       "[8 rows x 38 columns]"
      ]
     },
     "execution_count": 4,
     "metadata": {},
     "output_type": "execute_result"
    }
   ],
   "source": [
    "df.describe()"
   ]
  },
  {
   "cell_type": "code",
   "execution_count": 5,
   "metadata": {},
   "outputs": [
    {
     "data": {
      "text/plain": [
       "Index(['Model Year', 'Vehicle Manufacturer Name', 'Veh Mfr Code',\n",
       "       'Represented Test Veh Make', 'Represented Test Veh Model',\n",
       "       'Test Vehicle ID', 'Test Veh Configuration #',\n",
       "       'Test Veh Displacement (L)', 'Actual Tested Testgroup', 'Vehicle Type',\n",
       "       'Rated Horsepower', '# of Cylinders and Rotors', 'Engine Code',\n",
       "       'Tested Transmission Type Code', 'Tested Transmission Type',\n",
       "       '# of Gears', 'Transmission Lockup?', 'Drive System Code',\n",
       "       'Drive System Description', 'Transmission Overdrive Code',\n",
       "       'Transmission Overdrive Desc', 'Equivalent Test Weight (lbs.)',\n",
       "       'Axle Ratio', 'N/V Ratio', 'Shift Indicator Light Use Cd',\n",
       "       'Shift Indicator Light Use Desc', 'Test Number', 'Test Originator',\n",
       "       'Analytically Derived FE?', 'ADFE Test Number',\n",
       "       'ADFE Total Road Load HP', 'ADFE Equiv. Test Weight (lbs.)',\n",
       "       'ADFE N/V Ratio', 'Test Procedure Cd', 'Test Procedure Description',\n",
       "       'Test Fuel Type Cd', 'Test Fuel Type Description', 'Test Category',\n",
       "       'THC (g/mi)', 'CO (g/mi)', 'CO2 (g/mi)', 'NOx (g/mi)', 'PM (g/mi)',\n",
       "       'CH4 (g/mi)', 'N2O (g/mi)', 'RND_ADJ_FE', 'FE_UNIT', 'FE Bag 1',\n",
       "       'FE Bag 2', 'FE Bag 3', 'FE Bag 4', 'DT-Inertia Work Ratio Rating',\n",
       "       'DT-Absolute Speed Change Ratg', 'DT-Energy Economy Rating',\n",
       "       'Target Coef A (lbf)', 'Target Coef B (lbf/mph)',\n",
       "       'Target Coef C (lbf/mph**2)', 'Set Coef A (lbf)',\n",
       "       'Set Coef B (lbf/mph)', 'Set Coef C (lbf/mph**2)',\n",
       "       'Aftertreatment Device Cd', 'Aftertreatment Device Desc',\n",
       "       'Police - Emergency Vehicle?', 'Averaging Group ID',\n",
       "       'Averaging Weighting Factor', 'Averaging Method Cd',\n",
       "       'Averging Method Desc'],\n",
       "      dtype='object')"
      ]
     },
     "execution_count": 5,
     "metadata": {},
     "output_type": "execute_result"
    }
   ],
   "source": [
    "# chekc column names: note that each dataset has its own set column names so check the colnames verytime\n",
    "df.columns"
   ]
  },
  {
   "cell_type": "code",
   "execution_count": 6,
   "metadata": {},
   "outputs": [
    {
     "name": "stderr",
     "output_type": "stream",
     "text": [
      "<>:18: SyntaxWarning: invalid escape sequence '\\w'\n",
      "<>:18: SyntaxWarning: invalid escape sequence '\\w'\n",
      "C:\\Users\\Owner\\AppData\\Local\\Temp\\ipykernel_35640\\836376043.py:18: SyntaxWarning: invalid escape sequence '\\w'\n",
      "  df.columns = df.columns.str.lower().str.replace('[^\\w]','', regex=True) # then remove all spacial characters\n"
     ]
    }
   ],
   "source": [
    "################################################\n",
    "# Stumbling block a bit here (above).\n",
    "# The column names are not good for Pyhotn code due to the special characters. More challenging than the author textbook demo.\n",
    "#\n",
    "# We have to remove some unwanted characters in addiiton ot 'white space' such as: (, ), /, **\n",
    "#\n",
    "# We can do this using Pandas function str.replace() with the argument: ('[^\\w]','', regex=True)\n",
    "# That is, replace everything other than \\w . \\w Matches alphanumeric characters and the underscore, _.\n",
    "#\n",
    "# If you wonder how to know what to do in cases like this challenging one. Google it! No kidding. There is a wide\n",
    "# community of Python coders doing ML all around the world. There are online forums where issues/challenges and solutions\n",
    "# are being exhanged. This is still way better than ChatGPT (at least for now). \n",
    "# Or, if you are very patient, check the documentation of Pandas\n",
    "#\n",
    "################################################\n",
    "\n",
    "df.columns = df.columns.str.lower().str.replace(' ','_', regex=True) # replace all spaces with '_'\n",
    "df.columns = df.columns.str.lower().str.replace('[^\\w]','', regex=True) # then remove all spacial characters\n"
   ]
  },
  {
   "cell_type": "code",
   "execution_count": 7,
   "metadata": {},
   "outputs": [
    {
     "data": {
      "text/plain": [
       "Index(['model_year', 'vehicle_manufacturer_name', 'veh_mfr_code',\n",
       "       'represented_test_veh_make', 'represented_test_veh_model',\n",
       "       'test_vehicle_id', 'test_veh_configuration_', 'test_veh_displacement_l',\n",
       "       'actual_tested_testgroup', 'vehicle_type', 'rated_horsepower',\n",
       "       '_of_cylinders_and_rotors', 'engine_code',\n",
       "       'tested_transmission_type_code', 'tested_transmission_type',\n",
       "       '_of_gears', 'transmission_lockup', 'drive_system_code',\n",
       "       'drive_system_description', 'transmission_overdrive_code',\n",
       "       'transmission_overdrive_desc', 'equivalent_test_weight_lbs',\n",
       "       'axle_ratio', 'nv_ratio', 'shift_indicator_light_use_cd',\n",
       "       'shift_indicator_light_use_desc', 'test_number', 'test_originator',\n",
       "       'analytically_derived_fe', 'adfe_test_number',\n",
       "       'adfe_total_road_load_hp', 'adfe_equiv_test_weight_lbs',\n",
       "       'adfe_nv_ratio', 'test_procedure_cd', 'test_procedure_description',\n",
       "       'test_fuel_type_cd', 'test_fuel_type_description', 'test_category',\n",
       "       'thc_gmi', 'co_gmi', 'co2_gmi', 'nox_gmi', 'pm_gmi', 'ch4_gmi',\n",
       "       'n2o_gmi', 'rnd_adj_fe', 'fe_unit', 'fe_bag_1', 'fe_bag_2', 'fe_bag_3',\n",
       "       'fe_bag_4', 'dtinertia_work_ratio_rating',\n",
       "       'dtabsolute_speed_change_ratg', 'dtenergy_economy_rating',\n",
       "       'target_coef_a_lbf', 'target_coef_b_lbfmph', 'target_coef_c_lbfmph2',\n",
       "       'set_coef_a_lbf', 'set_coef_b_lbfmph', 'set_coef_c_lbfmph2',\n",
       "       'aftertreatment_device_cd', 'aftertreatment_device_desc',\n",
       "       'police__emergency_vehicle', 'averaging_group_id',\n",
       "       'averaging_weighting_factor', 'averaging_method_cd',\n",
       "       'averging_method_desc'],\n",
       "      dtype='object')"
      ]
     },
     "execution_count": 7,
     "metadata": {},
     "output_type": "execute_result"
    }
   ],
   "source": [
    "# chekc column names to verify no unwanted characters in colnames\n",
    "df.columns"
   ]
  },
  {
   "cell_type": "code",
   "execution_count": 8,
   "metadata": {},
   "outputs": [
    {
     "data": {
      "text/html": [
       "<div>\n",
       "<style scoped>\n",
       "    .dataframe tbody tr th:only-of-type {\n",
       "        vertical-align: middle;\n",
       "    }\n",
       "\n",
       "    .dataframe tbody tr th {\n",
       "        vertical-align: top;\n",
       "    }\n",
       "\n",
       "    .dataframe thead th {\n",
       "        text-align: right;\n",
       "    }\n",
       "</style>\n",
       "<table border=\"1\" class=\"dataframe\">\n",
       "  <thead>\n",
       "    <tr style=\"text-align: right;\">\n",
       "      <th></th>\n",
       "      <th>model_year</th>\n",
       "      <th>vehicle_manufacturer_name</th>\n",
       "      <th>veh_mfr_code</th>\n",
       "      <th>represented_test_veh_make</th>\n",
       "      <th>represented_test_veh_model</th>\n",
       "      <th>test_vehicle_id</th>\n",
       "      <th>test_veh_configuration_</th>\n",
       "      <th>test_veh_displacement_l</th>\n",
       "      <th>actual_tested_testgroup</th>\n",
       "      <th>vehicle_type</th>\n",
       "      <th>...</th>\n",
       "      <th>set_coef_a_lbf</th>\n",
       "      <th>set_coef_b_lbfmph</th>\n",
       "      <th>set_coef_c_lbfmph2</th>\n",
       "      <th>aftertreatment_device_cd</th>\n",
       "      <th>aftertreatment_device_desc</th>\n",
       "      <th>police__emergency_vehicle</th>\n",
       "      <th>averaging_group_id</th>\n",
       "      <th>averaging_weighting_factor</th>\n",
       "      <th>averaging_method_cd</th>\n",
       "      <th>averging_method_desc</th>\n",
       "    </tr>\n",
       "  </thead>\n",
       "  <tbody>\n",
       "    <tr>\n",
       "      <th>0</th>\n",
       "      <td>2024</td>\n",
       "      <td>aston martin</td>\n",
       "      <td>ASX</td>\n",
       "      <td>Aston Martin</td>\n",
       "      <td>DB12 V8</td>\n",
       "      <td>5723PT5601</td>\n",
       "      <td>0</td>\n",
       "      <td>4.0</td>\n",
       "      <td>RASXV04.0AES</td>\n",
       "      <td>Car</td>\n",
       "      <td>...</td>\n",
       "      <td>5.67</td>\n",
       "      <td>0.0083</td>\n",
       "      <td>0.0221</td>\n",
       "      <td>TWC</td>\n",
       "      <td>Three-way catalyst</td>\n",
       "      <td>N</td>\n",
       "      <td>NaN</td>\n",
       "      <td>NaN</td>\n",
       "      <td>N</td>\n",
       "      <td>No averaging</td>\n",
       "    </tr>\n",
       "    <tr>\n",
       "      <th>1</th>\n",
       "      <td>2024</td>\n",
       "      <td>aston martin</td>\n",
       "      <td>ASX</td>\n",
       "      <td>Aston Martin</td>\n",
       "      <td>DB12 V8</td>\n",
       "      <td>5723PT5601</td>\n",
       "      <td>0</td>\n",
       "      <td>4.0</td>\n",
       "      <td>RASXV04.0AES</td>\n",
       "      <td>Car</td>\n",
       "      <td>...</td>\n",
       "      <td>5.67</td>\n",
       "      <td>0.0083</td>\n",
       "      <td>0.0221</td>\n",
       "      <td>TWC</td>\n",
       "      <td>Three-way catalyst</td>\n",
       "      <td>N</td>\n",
       "      <td>NaN</td>\n",
       "      <td>NaN</td>\n",
       "      <td>N</td>\n",
       "      <td>No averaging</td>\n",
       "    </tr>\n",
       "    <tr>\n",
       "      <th>2</th>\n",
       "      <td>2024</td>\n",
       "      <td>aston martin</td>\n",
       "      <td>ASX</td>\n",
       "      <td>Aston Martin</td>\n",
       "      <td>DBX</td>\n",
       "      <td>8001PT8342</td>\n",
       "      <td>1</td>\n",
       "      <td>4.0</td>\n",
       "      <td>MASXJ04.0AEX</td>\n",
       "      <td>Both</td>\n",
       "      <td>...</td>\n",
       "      <td>-4.88</td>\n",
       "      <td>-0.5318</td>\n",
       "      <td>0.0367</td>\n",
       "      <td>TWC</td>\n",
       "      <td>Three-way catalyst</td>\n",
       "      <td>N</td>\n",
       "      <td>NaN</td>\n",
       "      <td>NaN</td>\n",
       "      <td>N</td>\n",
       "      <td>No averaging</td>\n",
       "    </tr>\n",
       "    <tr>\n",
       "      <th>3</th>\n",
       "      <td>2024</td>\n",
       "      <td>aston martin</td>\n",
       "      <td>ASX</td>\n",
       "      <td>Aston Martin</td>\n",
       "      <td>DBX</td>\n",
       "      <td>8001PT8342</td>\n",
       "      <td>1</td>\n",
       "      <td>4.0</td>\n",
       "      <td>MASXJ04.0AEX</td>\n",
       "      <td>Both</td>\n",
       "      <td>...</td>\n",
       "      <td>-4.88</td>\n",
       "      <td>-0.5318</td>\n",
       "      <td>0.0367</td>\n",
       "      <td>TWC</td>\n",
       "      <td>Three-way catalyst</td>\n",
       "      <td>N</td>\n",
       "      <td>NaN</td>\n",
       "      <td>NaN</td>\n",
       "      <td>N</td>\n",
       "      <td>No averaging</td>\n",
       "    </tr>\n",
       "    <tr>\n",
       "      <th>4</th>\n",
       "      <td>2024</td>\n",
       "      <td>aston martin</td>\n",
       "      <td>ASX</td>\n",
       "      <td>Aston Martin</td>\n",
       "      <td>DBX 707</td>\n",
       "      <td>8841PT8473</td>\n",
       "      <td>0</td>\n",
       "      <td>4.0</td>\n",
       "      <td>PASXJ04.0AEX</td>\n",
       "      <td>Both</td>\n",
       "      <td>...</td>\n",
       "      <td>-4.88</td>\n",
       "      <td>-0.5318</td>\n",
       "      <td>0.0367</td>\n",
       "      <td>TWC</td>\n",
       "      <td>Three-way catalyst</td>\n",
       "      <td>N</td>\n",
       "      <td>NaN</td>\n",
       "      <td>NaN</td>\n",
       "      <td>N</td>\n",
       "      <td>No averaging</td>\n",
       "    </tr>\n",
       "  </tbody>\n",
       "</table>\n",
       "<p>5 rows × 67 columns</p>\n",
       "</div>"
      ],
      "text/plain": [
       "   model_year vehicle_manufacturer_name veh_mfr_code  \\\n",
       "0        2024              aston martin          ASX   \n",
       "1        2024              aston martin          ASX   \n",
       "2        2024              aston martin          ASX   \n",
       "3        2024              aston martin          ASX   \n",
       "4        2024              aston martin          ASX   \n",
       "\n",
       "  represented_test_veh_make represented_test_veh_model test_vehicle_id  \\\n",
       "0              Aston Martin                    DB12 V8      5723PT5601   \n",
       "1              Aston Martin                    DB12 V8      5723PT5601   \n",
       "2              Aston Martin                        DBX      8001PT8342   \n",
       "3              Aston Martin                        DBX      8001PT8342   \n",
       "4              Aston Martin                    DBX 707      8841PT8473   \n",
       "\n",
       "   test_veh_configuration_  test_veh_displacement_l actual_tested_testgroup  \\\n",
       "0                        0                      4.0            RASXV04.0AES   \n",
       "1                        0                      4.0            RASXV04.0AES   \n",
       "2                        1                      4.0            MASXJ04.0AEX   \n",
       "3                        1                      4.0            MASXJ04.0AEX   \n",
       "4                        0                      4.0            PASXJ04.0AEX   \n",
       "\n",
       "  vehicle_type  ...  set_coef_a_lbf  set_coef_b_lbfmph set_coef_c_lbfmph2  \\\n",
       "0          Car  ...            5.67             0.0083             0.0221   \n",
       "1          Car  ...            5.67             0.0083             0.0221   \n",
       "2         Both  ...           -4.88            -0.5318             0.0367   \n",
       "3         Both  ...           -4.88            -0.5318             0.0367   \n",
       "4         Both  ...           -4.88            -0.5318             0.0367   \n",
       "\n",
       "  aftertreatment_device_cd aftertreatment_device_desc  \\\n",
       "0                      TWC         Three-way catalyst   \n",
       "1                      TWC         Three-way catalyst   \n",
       "2                      TWC         Three-way catalyst   \n",
       "3                      TWC         Three-way catalyst   \n",
       "4                      TWC         Three-way catalyst   \n",
       "\n",
       "   police__emergency_vehicle averaging_group_id averaging_weighting_factor  \\\n",
       "0                          N                NaN                        NaN   \n",
       "1                          N                NaN                        NaN   \n",
       "2                          N                NaN                        NaN   \n",
       "3                          N                NaN                        NaN   \n",
       "4                          N                NaN                        NaN   \n",
       "\n",
       "  averaging_method_cd  averging_method_desc  \n",
       "0                   N          No averaging  \n",
       "1                   N          No averaging  \n",
       "2                   N          No averaging  \n",
       "3                   N          No averaging  \n",
       "4                   N          No averaging  \n",
       "\n",
       "[5 rows x 67 columns]"
      ]
     },
     "execution_count": 8,
     "metadata": {},
     "output_type": "execute_result"
    }
   ],
   "source": [
    "df.head()"
   ]
  },
  {
   "cell_type": "markdown",
   "metadata": {},
   "source": [
    "# Exploratory data analysis"
   ]
  },
  {
   "cell_type": "code",
   "execution_count": 9,
   "metadata": {},
   "outputs": [
    {
     "data": {
      "image/png": "[encoded data removed]",
      "text/plain": [
       "<Figure size 600x400 with 1 Axes>"
      ]
     },
     "metadata": {},
     "output_type": "display_data"
    }
   ],
   "source": [
    "# Let us look at the distribution of values in the targte output Y whihc is CO\n",
    "plt.figure(figsize=(6, 4))\n",
    "\n",
    "sns.histplot(df.co_gmi, bins=40, color='black', alpha=1)\n",
    "plt.ylabel('Frequency')\n",
    "plt.xlabel('CO(g/mi)')\n",
    "plt.title('Distribution of CO(g/mi)')\n",
    "\n",
    "plt.show()"
   ]
  },
  {
   "cell_type": "code",
   "execution_count": 10,
   "metadata": {},
   "outputs": [
    {
     "data": {
      "image/png": "[encoded data removed]",
      "text/plain": [
       "<Figure size 600x400 with 1 Axes>"
      ]
     },
     "metadata": {},
     "output_type": "display_data"
    }
   ],
   "source": [
    "# Let's see the distribution at the lower values of CO\n",
    "\n",
    "plt.figure(figsize=(6, 4))\n",
    "\n",
    "sns.histplot(df.co_gmi[df.co_gmi < 2], bins=40, color='black', alpha=1)\n",
    "plt.ylabel('Frequency')\n",
    "plt.xlabel('CO(g/mi)')\n",
    "plt.title('Distribution of CO(g/mi)')\n",
    "\n",
    "plt.show()"
   ]
  },
  {
   "cell_type": "code",
   "execution_count": 11,
   "metadata": {
    "scrolled": true
   },
   "outputs": [
    {
     "data": {
      "image/png": "[encoded data removed]",
      "text/plain": [
       "<Figure size 600x400 with 1 Axes>"
      ]
     },
     "metadata": {},
     "output_type": "display_data"
    }
   ],
   "source": [
    "log_co = np.log1p(df.co_gmi)\n",
    "\n",
    "plt.figure(figsize=(6, 4))\n",
    "\n",
    "sns.histplot(log_co, bins=40, color='black', alpha=1)\n",
    "plt.ylabel('Frequency')\n",
    "plt.xlabel('Log(CO + 1)')\n",
    "plt.title('Distribution of CO levels after log tranformation')\n",
    "\n",
    "plt.show()\n",
    "\n",
    "# Based on the graph below, log-transformation does not signficantly change the look of CO distribution, \n",
    "# so log-transform on CO will not have significant improvement effect on the eventual model"
   ]
  },
  {
   "cell_type": "code",
   "execution_count": 12,
   "metadata": {},
   "outputs": [
    {
     "data": {
      "text/plain": [
       "model_year                       0\n",
       "vehicle_manufacturer_name        0\n",
       "veh_mfr_code                     0\n",
       "represented_test_veh_make        0\n",
       "represented_test_veh_model       0\n",
       "                              ... \n",
       "police__emergency_vehicle        0\n",
       "averaging_group_id            3084\n",
       "averaging_weighting_factor    3084\n",
       "averaging_method_cd              0\n",
       "averging_method_desc             0\n",
       "Length: 67, dtype: int64"
      ]
     },
     "execution_count": 12,
     "metadata": {},
     "output_type": "execute_result"
    }
   ],
   "source": [
    "# Check for NULL or NA, or NaN values in each column in the dataset \n",
    "df.isnull().sum()"
   ]
  },
  {
   "cell_type": "markdown",
   "metadata": {},
   "source": [
    "## Validation framework"
   ]
  },
  {
   "cell_type": "code",
   "execution_count": 13,
   "metadata": {},
   "outputs": [],
   "source": [
    "# Set random number seed for reproducility of results by other users of the notebook\n",
    "np.random.seed(2)\n",
    "\n",
    "\n",
    "# Since the target var CO cannot have NULL values, let's remove the rows (data-points) that have CO=NULL or NaN or NA\n",
    "# We have to do this before we perform the succeeding steps of splitting the dataset\n",
    "\n",
    "df = df.dropna(subset = ['co_gmi'])\n",
    "\n",
    "# Now splitting the dataset using 20% for Test set and the remianing 80% for Train+Val set\n",
    "n = len(df)\n",
    "\n",
    "n_val = int(0.2 * n)\n",
    "n_test = int(0.2 * n)\n",
    "n_train = n - (n_val + n_test)\n",
    "\n",
    "idx = np.arange(n)\n",
    "np.random.shuffle(idx)\n",
    "\n",
    "df_shuffled = df.iloc[idx]\n",
    "\n",
    "df_train = df_shuffled.iloc[:n_train].copy()\n",
    "df_val = df_shuffled.iloc[n_train:n_train+n_val].copy()\n",
    "df_test = df_shuffled.iloc[n_train+n_val:].copy()\n",
    "\n"
   ]
  },
  {
   "cell_type": "markdown",
   "metadata": {},
   "source": [
    "#### Potential Questions at this stage for Exam 1:\n",
    "1. How many data samples are there in the Test set?\n",
    "2. How many data samples are there in the Train set?\n",
    "3. How many data samples are there in the Validation set?\n",
    "\n",
    "Use Python function to compute the answers to the questions above."
   ]
  },
  {
   "cell_type": "code",
   "execution_count": 14,
   "metadata": {},
   "outputs": [],
   "source": [
    "# Note: The target Y for your Poject 1 is CO (g/mi)\n",
    "\n",
    "y_train_orig = df_train.co_gmi.values\n",
    "y_val_orig = df_val.co_gmi.values\n",
    "y_test_orig = df_test.co_gmi.values\n",
    "\n",
    "# no need for log-transform as shown above, so we just equate the vars\n",
    "y_train = y_train_orig\n",
    "y_val = y_val_orig\n",
    "y_test = y_test_orig\n",
    "\n",
    "# since CO is a Y variable, then delete it from the pool of potential X variables\n",
    "del df_train['co_gmi']\n",
    "del df_val['co_gmi']\n",
    "del df_test['co_gmi']"
   ]
  },
  {
   "cell_type": "markdown",
   "metadata": {},
   "source": [
    "## Linear Regression"
   ]
  },
  {
   "cell_type": "code",
   "execution_count": 15,
   "metadata": {},
   "outputs": [],
   "source": [
    "# This is the linear regression algorithm (closed-form formula to compute the linear model coefficients)\n",
    "\n",
    "def train_linear_regression(X, y):\n",
    "    ones = np.ones(X.shape[0])\n",
    "    X = np.column_stack([ones, X])\n",
    "\n",
    "    XTX = X.T.dot(X)\n",
    "    XTX_inv = np.linalg.inv(XTX)\n",
    "    w = XTX_inv.dot(X.T).dot(y)\n",
    "    \n",
    "    return w[0], w[1:]"
   ]
  },
  {
   "cell_type": "markdown",
   "metadata": {},
   "source": [
    "## Baseline solution"
   ]
  },
  {
   "cell_type": "code",
   "execution_count": 16,
   "metadata": {},
   "outputs": [],
   "source": [
    "# This is where you select your predicror variables or X variables.\n",
    "# Remember your project constraint: use at least 10 X varibales (except CO(g/mi) or course), and at least 1 X-var is a categorical var\n",
    "# How to know which X-var to select? Check the PDF document of Variable Definition, which is also uploaded in Moodle under Project 1\n",
    "#\n",
    "\n",
    "base = ['test_veh_displacement_l', # this is the engine cylinder displacement\n",
    "        'rated_horsepower', # thisis the horsepower rating\n",
    "        'axle_ratio', # thi sis the axle ratio\n",
    "        'nv_ratio','thc_gmi', 'co2_gmi', 'nox_gmi', 'pm_gmi', 'ch4_gmi', 'nox_gmi']"
   ]
  },
  {
   "cell_type": "code",
   "execution_count": 17,
   "metadata": {},
   "outputs": [],
   "source": [
    "def prepare1_X(df):\n",
    "    df_num = df[base]\n",
    "    df_num = df_num.fillna(0)\n",
    "    X = df_num.values\n",
    "    return X"
   ]
  },
  {
   "cell_type": "code",
   "execution_count": 18,
   "metadata": {},
   "outputs": [],
   "source": [
    "X_train = prepare1_X(df_train)\n",
    "w_0, w = train_linear_regression(X_train, y_train)"
   ]
  },
  {
   "cell_type": "code",
   "execution_count": 19,
   "metadata": {},
   "outputs": [
    {
     "data": {
      "text/plain": [
       "array([1.10638  , 0.0361   , 0.0312183, ..., 0.749987 , 0.152    ,\n",
       "       0.052334 ])"
      ]
     },
     "execution_count": 19,
     "metadata": {},
     "output_type": "execute_result"
    }
   ],
   "source": [
    "y_train"
   ]
  },
  {
   "cell_type": "code",
   "execution_count": 20,
   "metadata": {},
   "outputs": [
    {
     "data": {
      "text/plain": [
       "-519840755144779.0"
      ]
     },
     "execution_count": 20,
     "metadata": {},
     "output_type": "execute_result"
    }
   ],
   "source": [
    "w_0"
   ]
  },
  {
   "cell_type": "code",
   "execution_count": 21,
   "metadata": {},
   "outputs": [
    {
     "data": {
      "text/plain": [
       "array([ 1.24824189e+15, -1.05145754e+13, -2.32772943e+14, -2.88356044e+13,\n",
       "        9.49622985e+15,  1.60837020e+13,  2.78847049e+17,  2.43514312e+03,\n",
       "        5.28089759e+01, -5.72056380e+17])"
      ]
     },
     "execution_count": 21,
     "metadata": {},
     "output_type": "execute_result"
    }
   ],
   "source": [
    "w"
   ]
  },
  {
   "cell_type": "code",
   "execution_count": 22,
   "metadata": {},
   "outputs": [],
   "source": [
    "y_pred = w_0 + X_train.dot(w)"
   ]
  },
  {
   "cell_type": "code",
   "execution_count": 23,
   "metadata": {},
   "outputs": [
    {
     "data": {
      "image/png": "[encoded data removed]",
      "text/plain": [
       "<Figure size 600x400 with 1 Axes>"
      ]
     },
     "metadata": {},
     "output_type": "display_data"
    }
   ],
   "source": [
    "plt.figure(figsize=(6, 4))\n",
    "\n",
    "sns.histplot(y_train, label='target', color='#222222', alpha=0.6, bins=40)\n",
    "sns.histplot(y_pred, label='prediction', color='#aaaaaa', alpha=0.8, bins=40)\n",
    "\n",
    "plt.legend()\n",
    "\n",
    "plt.ylabel('Frequency')\n",
    "plt.xlabel('Log(Price + 1)')\n",
    "plt.title('Predictions vs actual distribution')\n",
    "\n",
    "plt.show()"
   ]
  },
  {
   "cell_type": "code",
   "execution_count": 24,
   "metadata": {},
   "outputs": [],
   "source": [
    "def rmse(y, y_pred):\n",
    "    error = y_pred - y\n",
    "    mse = (error ** 2).mean()\n",
    "    return np.sqrt(mse)"
   ]
  },
  {
   "cell_type": "code",
   "execution_count": 25,
   "metadata": {},
   "outputs": [
    {
     "data": {
      "text/plain": [
       "3432041599574867.5"
      ]
     },
     "execution_count": 25,
     "metadata": {},
     "output_type": "execute_result"
    }
   ],
   "source": [
    "rmse(y_train, y_pred)"
   ]
  },
  {
   "cell_type": "code",
   "execution_count": 26,
   "metadata": {},
   "outputs": [],
   "source": [
    "X_val = prepare1_X(df_val)\n",
    "y_pred = w_0 + X_val.dot(w)"
   ]
  },
  {
   "cell_type": "code",
   "execution_count": 27,
   "metadata": {
    "scrolled": true
   },
   "outputs": [
    {
     "data": {
      "text/plain": [
       "3146313103404116.5"
      ]
     },
     "execution_count": 27,
     "metadata": {},
     "output_type": "execute_result"
    }
   ],
   "source": [
    "rmse(y_val, y_pred)"
   ]
  },
  {
   "cell_type": "markdown",
   "metadata": {},
   "source": [
    "## Simple feature engineering\n",
    "Let use now include the 1 Categorical variable into the model as an X var.\n",
    "I chose for this demo the variable VEHICLE TYPE with column name 'vehicle_type'. This is a categorical data, so we have to convert this to numeric data.\n",
    "To convert to numeric, we use the \"One-Hot Encoding\" technique."
   ]
  },
  {
   "cell_type": "code",
   "execution_count": 28,
   "metadata": {},
   "outputs": [
    {
     "data": {
      "text/plain": [
       "engine_code\n",
       "01    143\n",
       "1     135\n",
       "02     85\n",
       "2      64\n",
       "03     57\n",
       "Name: count, dtype: int64"
      ]
     },
     "execution_count": 28,
     "metadata": {},
     "output_type": "execute_result"
    }
   ],
   "source": [
    "df['vehicle_type'].value_counts().head(5)\n",
    "df['engine_code'].value_counts().head(5)"
   ]
  },
  {
   "cell_type": "markdown",
   "metadata": {},
   "source": [
    "You see above that 'vehicle_type' has 3 levels or categories: Truck, Car, Both.\n",
    "Let us use these levels for One-Hot Encoding.\n",
    "\n",
    "Also, I will give a different name to this preparation function so it is not confused with baseline prepare1_X() function above."
   ]
  },
  {
   "cell_type": "code",
   "execution_count": 29,
   "metadata": {},
   "outputs": [],
   "source": [
    "#def prepare2_X(df):\n",
    "#    df = df.copy()\n",
    "#    features = base.copy()\n",
    "#\n",
    "#    for v in ['Truck', 'Car', 'Both']:\n",
    "#        feature = 'is_type_%s' % v\n",
    "#        df[feature] = (df['vehicle_type'] == v).astype(int)\n",
    "#        features.append(feature)\n",
    "#\n",
    "#    df_num = df[features]\n",
    "#    df_num = df_num.fillna(0)\n",
    "#    X = df_num.values\n",
    "#    return X"
   ]
  },
  {
   "cell_type": "code",
   "execution_count": 30,
   "metadata": {},
   "outputs": [],
   "source": [
    "# The code above does the job, but it can be error-prone and also tedious.\n",
    "#\n",
    "# Let's use the pre-built Pandas function 'get_dummies' to perform One-Hot Encoding\n",
    "# Here are the codes:\n",
    "\n",
    "# First, slice the dataframe into one with your desired X-vars\n",
    "# Then, drop any rows with missing values\n",
    "# Applying the get_dummies function with argument dtype=float to force True/False into 1/0.\n",
    "\n"
   ]
  },
  {
   "cell_type": "markdown",
   "metadata": {},
   "source": [
    "'test_veh_displacement_l', \n",
    "        'rated_horsepower',\n",
    "        'axle_ratio', \n",
    "        'nv_ratio','thc_gmi', 'co2_gmi', 'nox_gmi', 'pm_gmi', 'ch4_gmi'"
   ]
  },
  {
   "cell_type": "code",
   "execution_count": 31,
   "metadata": {},
   "outputs": [],
   "source": [
    "# First, slice the dataframe into one with your desired X-vars\n",
    "\n",
    "df2 = df.loc[:,['test_veh_displacement_l', \n",
    "        'rated_horsepower',\n",
    "        'axle_ratio', \n",
    "        'nv_ratio','thc_gmi', 'co2_gmi', 'nox_gmi', 'pm_gmi', 'ch4_gmi', 'nox_gmi', 'engine_code', 'vehicle_type']]"
   ]
  },
  {
   "cell_type": "code",
   "execution_count": 32,
   "metadata": {},
   "outputs": [
    {
     "data": {
      "text/html": [
       "<div>\n",
       "<style scoped>\n",
       "    .dataframe tbody tr th:only-of-type {\n",
       "        vertical-align: middle;\n",
       "    }\n",
       "\n",
       "    .dataframe tbody tr th {\n",
       "        vertical-align: top;\n",
       "    }\n",
       "\n",
       "    .dataframe thead th {\n",
       "        text-align: right;\n",
       "    }\n",
       "</style>\n",
       "<table border=\"1\" class=\"dataframe\">\n",
       "  <thead>\n",
       "    <tr style=\"text-align: right;\">\n",
       "      <th></th>\n",
       "      <th>test_veh_displacement_l</th>\n",
       "      <th>rated_horsepower</th>\n",
       "      <th>axle_ratio</th>\n",
       "      <th>nv_ratio</th>\n",
       "      <th>thc_gmi</th>\n",
       "      <th>co2_gmi</th>\n",
       "      <th>nox_gmi</th>\n",
       "      <th>pm_gmi</th>\n",
       "      <th>ch4_gmi</th>\n",
       "      <th>nox_gmi</th>\n",
       "      <th>engine_code</th>\n",
       "      <th>vehicle_type</th>\n",
       "    </tr>\n",
       "  </thead>\n",
       "  <tbody>\n",
       "    <tr>\n",
       "      <th>0</th>\n",
       "      <td>4.0</td>\n",
       "      <td>680</td>\n",
       "      <td>3.08</td>\n",
       "      <td>24.8</td>\n",
       "      <td>0.0256</td>\n",
       "      <td>484.329</td>\n",
       "      <td>0.008</td>\n",
       "      <td>NaN</td>\n",
       "      <td>0.0089</td>\n",
       "      <td>0.008</td>\n",
       "      <td>177850</td>\n",
       "      <td>Car</td>\n",
       "    </tr>\n",
       "    <tr>\n",
       "      <th>1</th>\n",
       "      <td>4.0</td>\n",
       "      <td>680</td>\n",
       "      <td>3.08</td>\n",
       "      <td>24.8</td>\n",
       "      <td>0.0007</td>\n",
       "      <td>283.235</td>\n",
       "      <td>0.007</td>\n",
       "      <td>NaN</td>\n",
       "      <td>NaN</td>\n",
       "      <td>0.007</td>\n",
       "      <td>177850</td>\n",
       "      <td>Car</td>\n",
       "    </tr>\n",
       "    <tr>\n",
       "      <th>2</th>\n",
       "      <td>4.0</td>\n",
       "      <td>550</td>\n",
       "      <td>3.06</td>\n",
       "      <td>21.0</td>\n",
       "      <td>0.0146</td>\n",
       "      <td>521.260</td>\n",
       "      <td>0.009</td>\n",
       "      <td>NaN</td>\n",
       "      <td>0.0028</td>\n",
       "      <td>0.009</td>\n",
       "      <td>177950</td>\n",
       "      <td>Both</td>\n",
       "    </tr>\n",
       "    <tr>\n",
       "      <th>3</th>\n",
       "      <td>4.0</td>\n",
       "      <td>550</td>\n",
       "      <td>3.06</td>\n",
       "      <td>21.0</td>\n",
       "      <td>0.0000</td>\n",
       "      <td>327.540</td>\n",
       "      <td>0.002</td>\n",
       "      <td>NaN</td>\n",
       "      <td>NaN</td>\n",
       "      <td>0.002</td>\n",
       "      <td>177950</td>\n",
       "      <td>Both</td>\n",
       "    </tr>\n",
       "    <tr>\n",
       "      <th>4</th>\n",
       "      <td>4.0</td>\n",
       "      <td>707</td>\n",
       "      <td>3.27</td>\n",
       "      <td>22.0</td>\n",
       "      <td>0.0156</td>\n",
       "      <td>486.750</td>\n",
       "      <td>0.011</td>\n",
       "      <td>0.0004</td>\n",
       "      <td>0.0040</td>\n",
       "      <td>0.011</td>\n",
       "      <td>177950</td>\n",
       "      <td>Both</td>\n",
       "    </tr>\n",
       "  </tbody>\n",
       "</table>\n",
       "</div>"
      ],
      "text/plain": [
       "   test_veh_displacement_l  rated_horsepower  axle_ratio  nv_ratio  thc_gmi  \\\n",
       "0                      4.0               680        3.08      24.8   0.0256   \n",
       "1                      4.0               680        3.08      24.8   0.0007   \n",
       "2                      4.0               550        3.06      21.0   0.0146   \n",
       "3                      4.0               550        3.06      21.0   0.0000   \n",
       "4                      4.0               707        3.27      22.0   0.0156   \n",
       "\n",
       "   co2_gmi  nox_gmi  pm_gmi  ch4_gmi  nox_gmi engine_code vehicle_type  \n",
       "0  484.329    0.008     NaN   0.0089    0.008      177850          Car  \n",
       "1  283.235    0.007     NaN      NaN    0.007      177850          Car  \n",
       "2  521.260    0.009     NaN   0.0028    0.009      177950         Both  \n",
       "3  327.540    0.002     NaN      NaN    0.002      177950         Both  \n",
       "4  486.750    0.011  0.0004   0.0040    0.011      177950         Both  "
      ]
     },
     "execution_count": 32,
     "metadata": {},
     "output_type": "execute_result"
    }
   ],
   "source": [
    "df2.head()"
   ]
  },
  {
   "cell_type": "code",
   "execution_count": 33,
   "metadata": {},
   "outputs": [],
   "source": [
    "# Then, drop any rows with missing values\n",
    "df3 = df2.dropna()"
   ]
  },
  {
   "cell_type": "code",
   "execution_count": 34,
   "metadata": {},
   "outputs": [
    {
     "data": {
      "text/html": [
       "<div>\n",
       "<style scoped>\n",
       "    .dataframe tbody tr th:only-of-type {\n",
       "        vertical-align: middle;\n",
       "    }\n",
       "\n",
       "    .dataframe tbody tr th {\n",
       "        vertical-align: top;\n",
       "    }\n",
       "\n",
       "    .dataframe thead th {\n",
       "        text-align: right;\n",
       "    }\n",
       "</style>\n",
       "<table border=\"1\" class=\"dataframe\">\n",
       "  <thead>\n",
       "    <tr style=\"text-align: right;\">\n",
       "      <th></th>\n",
       "      <th>test_veh_displacement_l</th>\n",
       "      <th>rated_horsepower</th>\n",
       "      <th>axle_ratio</th>\n",
       "      <th>nv_ratio</th>\n",
       "      <th>thc_gmi</th>\n",
       "      <th>co2_gmi</th>\n",
       "      <th>nox_gmi</th>\n",
       "      <th>pm_gmi</th>\n",
       "      <th>ch4_gmi</th>\n",
       "      <th>nox_gmi</th>\n",
       "      <th>engine_code</th>\n",
       "      <th>vehicle_type</th>\n",
       "    </tr>\n",
       "  </thead>\n",
       "  <tbody>\n",
       "    <tr>\n",
       "      <th>4</th>\n",
       "      <td>4.0</td>\n",
       "      <td>707</td>\n",
       "      <td>3.27</td>\n",
       "      <td>22.0</td>\n",
       "      <td>0.015600</td>\n",
       "      <td>486.750000</td>\n",
       "      <td>0.011000</td>\n",
       "      <td>0.000400</td>\n",
       "      <td>0.004000</td>\n",
       "      <td>0.011000</td>\n",
       "      <td>177950</td>\n",
       "      <td>Both</td>\n",
       "    </tr>\n",
       "    <tr>\n",
       "      <th>30</th>\n",
       "      <td>2.0</td>\n",
       "      <td>181</td>\n",
       "      <td>3.23</td>\n",
       "      <td>28.8</td>\n",
       "      <td>0.001002</td>\n",
       "      <td>294.249634</td>\n",
       "      <td>0.009348</td>\n",
       "      <td>0.000276</td>\n",
       "      <td>0.000624</td>\n",
       "      <td>0.009348</td>\n",
       "      <td>XB1142O1G20X</td>\n",
       "      <td>Both</td>\n",
       "    </tr>\n",
       "    <tr>\n",
       "      <th>36</th>\n",
       "      <td>2.0</td>\n",
       "      <td>255</td>\n",
       "      <td>2.81</td>\n",
       "      <td>24.0</td>\n",
       "      <td>0.009918</td>\n",
       "      <td>283.713806</td>\n",
       "      <td>0.003610</td>\n",
       "      <td>0.000141</td>\n",
       "      <td>0.002590</td>\n",
       "      <td>0.003610</td>\n",
       "      <td>B4620O1-G20-S</td>\n",
       "      <td>Both</td>\n",
       "    </tr>\n",
       "    <tr>\n",
       "      <th>57</th>\n",
       "      <td>2.0</td>\n",
       "      <td>255</td>\n",
       "      <td>2.81</td>\n",
       "      <td>23.9</td>\n",
       "      <td>0.005866</td>\n",
       "      <td>290.467621</td>\n",
       "      <td>0.002443</td>\n",
       "      <td>0.000299</td>\n",
       "      <td>0.001255</td>\n",
       "      <td>0.002443</td>\n",
       "      <td>B46B20O1G23X</td>\n",
       "      <td>Both</td>\n",
       "    </tr>\n",
       "    <tr>\n",
       "      <th>295</th>\n",
       "      <td>2.0</td>\n",
       "      <td>248</td>\n",
       "      <td>3.38</td>\n",
       "      <td>26.2</td>\n",
       "      <td>0.005430</td>\n",
       "      <td>309.487981</td>\n",
       "      <td>0.003706</td>\n",
       "      <td>0.000378</td>\n",
       "      <td>0.001179</td>\n",
       "      <td>0.003706</td>\n",
       "      <td>B46B20O1G01S</td>\n",
       "      <td>Both</td>\n",
       "    </tr>\n",
       "  </tbody>\n",
       "</table>\n",
       "</div>"
      ],
      "text/plain": [
       "     test_veh_displacement_l  rated_horsepower  axle_ratio  nv_ratio  \\\n",
       "4                        4.0               707        3.27      22.0   \n",
       "30                       2.0               181        3.23      28.8   \n",
       "36                       2.0               255        2.81      24.0   \n",
       "57                       2.0               255        2.81      23.9   \n",
       "295                      2.0               248        3.38      26.2   \n",
       "\n",
       "      thc_gmi     co2_gmi   nox_gmi    pm_gmi   ch4_gmi   nox_gmi  \\\n",
       "4    0.015600  486.750000  0.011000  0.000400  0.004000  0.011000   \n",
       "30   0.001002  294.249634  0.009348  0.000276  0.000624  0.009348   \n",
       "36   0.009918  283.713806  0.003610  0.000141  0.002590  0.003610   \n",
       "57   0.005866  290.467621  0.002443  0.000299  0.001255  0.002443   \n",
       "295  0.005430  309.487981  0.003706  0.000378  0.001179  0.003706   \n",
       "\n",
       "       engine_code vehicle_type  \n",
       "4           177950         Both  \n",
       "30    XB1142O1G20X         Both  \n",
       "36   B4620O1-G20-S         Both  \n",
       "57    B46B20O1G23X         Both  \n",
       "295   B46B20O1G01S         Both  "
      ]
     },
     "execution_count": 34,
     "metadata": {},
     "output_type": "execute_result"
    }
   ],
   "source": [
    "df3.head()"
   ]
  },
  {
   "cell_type": "code",
   "execution_count": 35,
   "metadata": {},
   "outputs": [
    {
     "data": {
      "text/plain": [
       "2648"
      ]
     },
     "execution_count": 35,
     "metadata": {},
     "output_type": "execute_result"
    }
   ],
   "source": [
    "# Check lenght (or number of rows) of dataframe\n",
    "len(df2)"
   ]
  },
  {
   "cell_type": "code",
   "execution_count": 36,
   "metadata": {},
   "outputs": [
    {
     "data": {
      "text/plain": [
       "438"
      ]
     },
     "execution_count": 36,
     "metadata": {},
     "output_type": "execute_result"
    }
   ],
   "source": [
    "# Check lenght (or number of rows) of dataframe\n",
    "len(df3)"
   ]
  },
  {
   "cell_type": "code",
   "execution_count": 37,
   "metadata": {},
   "outputs": [
    {
     "name": "stdout",
     "output_type": "stream",
     "text": [
      "      test_veh_displacement_l  rated_horsepower  axle_ratio  nv_ratio  \\\n",
      "4                       4.000               707        3.27      22.0   \n",
      "30                      2.000               181        3.23      28.8   \n",
      "36                      2.000               255        2.81      24.0   \n",
      "57                      2.000               255        2.81      23.9   \n",
      "295                     2.000               248        3.38      26.2   \n",
      "...                       ...               ...         ...       ...   \n",
      "3105                    1.969               247        3.33      25.6   \n",
      "3106                    1.969               247        3.33      25.7   \n",
      "3107                    1.969               247        3.33      25.7   \n",
      "3112                    1.969               312        3.33      26.2   \n",
      "3113                    1.969               312        3.33      26.2   \n",
      "\n",
      "       thc_gmi     co2_gmi   nox_gmi    pm_gmi   ch4_gmi   nox_gmi  ...  \\\n",
      "4     0.015600  486.750000  0.011000  0.000400  0.004000  0.011000  ...   \n",
      "30    0.001002  294.249634  0.009348  0.000276  0.000624  0.009348  ...   \n",
      "36    0.009918  283.713806  0.003610  0.000141  0.002590  0.003610  ...   \n",
      "57    0.005866  290.467621  0.002443  0.000299  0.001255  0.002443  ...   \n",
      "295   0.005430  309.487981  0.003706  0.000378  0.001179  0.003706  ...   \n",
      "...        ...         ...       ...       ...       ...       ...  ...   \n",
      "3105  0.012000  318.000000  0.009000  0.000900  0.004700  0.009000  ...   \n",
      "3106  0.013000  320.000000  0.010000  0.001100  0.004100  0.010000  ...   \n",
      "3107  0.001000  230.000000  0.001000  0.000100  0.000400  0.001000  ...   \n",
      "3112  0.004000  262.000000  0.006000  0.000700  0.001300  0.006000  ...   \n",
      "3113  0.001000  228.000000  0.001000  0.000300  0.000800  0.001000  ...   \n",
      "\n",
      "     engine_code_NMAX6  engine_code_PMAX10  engine_code_PMAX11  \\\n",
      "4                  0.0                 0.0                 0.0   \n",
      "30                 0.0                 0.0                 0.0   \n",
      "36                 0.0                 0.0                 0.0   \n",
      "57                 0.0                 0.0                 0.0   \n",
      "295                0.0                 0.0                 0.0   \n",
      "...                ...                 ...                 ...   \n",
      "3105               0.0                 0.0                 0.0   \n",
      "3106               0.0                 0.0                 0.0   \n",
      "3107               0.0                 0.0                 0.0   \n",
      "3112               0.0                 0.0                 0.0   \n",
      "3113               0.0                 0.0                 0.0   \n",
      "\n",
      "      engine_code_PMAX13  engine_code_PMAX6  engine_code_RMAX15  \\\n",
      "4                    0.0                0.0                 0.0   \n",
      "30                   0.0                0.0                 0.0   \n",
      "36                   0.0                0.0                 0.0   \n",
      "57                   0.0                0.0                 0.0   \n",
      "295                  0.0                0.0                 0.0   \n",
      "...                  ...                ...                 ...   \n",
      "3105                 0.0                0.0                 0.0   \n",
      "3106                 0.0                0.0                 0.0   \n",
      "3107                 0.0                0.0                 0.0   \n",
      "3112                 0.0                0.0                 0.0   \n",
      "3113                 0.0                0.0                 0.0   \n",
      "\n",
      "      engine_code_S63B44T4F91X1  engine_code_S63B44T4F92X1  \\\n",
      "4                           0.0                        0.0   \n",
      "30                          0.0                        0.0   \n",
      "36                          0.0                        0.0   \n",
      "57                          0.0                        0.0   \n",
      "295                         0.0                        0.0   \n",
      "...                         ...                        ...   \n",
      "3105                        0.0                        0.0   \n",
      "3106                        0.0                        0.0   \n",
      "3107                        0.0                        0.0   \n",
      "3112                        0.0                        0.0   \n",
      "3113                        0.0                        0.0   \n",
      "\n",
      "      engine_code_S63B44T4F93X1  engine_code_XB1142O1G20X  \n",
      "4                           0.0                       0.0  \n",
      "30                          0.0                       1.0  \n",
      "36                          0.0                       0.0  \n",
      "57                          0.0                       0.0  \n",
      "295                         0.0                       0.0  \n",
      "...                         ...                       ...  \n",
      "3105                        0.0                       0.0  \n",
      "3106                        0.0                       0.0  \n",
      "3107                        0.0                       0.0  \n",
      "3112                        0.0                       0.0  \n",
      "3113                        0.0                       0.0  \n",
      "\n",
      "[438 rows x 126 columns]\n"
     ]
    }
   ],
   "source": [
    "# Now applying the get_dummies function with argument dtype=float to force True/False into 1/0.\n",
    "\n",
    "one_hot_encoded_data = pd.get_dummies(df3, columns = ['vehicle_type'], dtype=float) \n",
    "one_hot_encoded_data = pd.get_dummies(df3, columns = ['engine_code'], dtype=float) \n",
    "\n",
    "\n",
    "print(one_hot_encoded_data)"
   ]
  },
  {
   "cell_type": "code",
   "execution_count": 38,
   "metadata": {},
   "outputs": [],
   "source": [
    "# Running preparation\n",
    "\n",
    "X_train = prepare1_X(df_train)\n"
   ]
  },
  {
   "cell_type": "code",
   "execution_count": 39,
   "metadata": {},
   "outputs": [
    {
     "data": {
      "text/plain": [
       "array([[3.0000e+00, 3.0500e+02, 3.2300e+00, ..., 4.2800e-04, 2.4550e-03,\n",
       "        9.8634e-02],\n",
       "       [4.0000e+00, 5.1800e+02, 4.3000e+00, ..., 2.1000e-03, 1.5000e-03,\n",
       "        3.6000e-03],\n",
       "       [2.0000e+00, 2.7000e+02, 1.7900e+00, ..., 0.0000e+00, 5.4803e-03,\n",
       "        1.5443e-03],\n",
       "       ...,\n",
       "       [2.0000e+00, 2.3700e+02, 3.4700e+00, ..., 1.0790e-03, 6.4850e-03,\n",
       "        7.2380e-03],\n",
       "       [2.0000e+00, 1.4600e+02, 3.9000e+00, ..., 0.0000e+00, 2.2900e-03,\n",
       "        5.5000e-03],\n",
       "       [1.2000e+00, 1.3700e+02, 3.5000e+00, ..., 0.0000e+00, 6.0830e-03,\n",
       "        2.4220e-03]])"
      ]
     },
     "execution_count": 39,
     "metadata": {},
     "output_type": "execute_result"
    }
   ],
   "source": [
    "# Chekcing if the one-hot encoding really worked\n",
    "# note: X_train is now a numpy array. The prepare2_X() function has 'X = df_num.values', \n",
    "# which outputs only the values and no column names attached. \n",
    "# The added on-hot coding columns are at the end of the numpy array.\n",
    "# Notice the numbers, 1 and 0, as indicators of presence and absence of the feature\n",
    "\n",
    "X_train"
   ]
  },
  {
   "cell_type": "code",
   "execution_count": 40,
   "metadata": {},
   "outputs": [
    {
     "data": {
      "text/plain": [
       "(1590, 10)"
      ]
     },
     "execution_count": 40,
     "metadata": {},
     "output_type": "execute_result"
    }
   ],
   "source": [
    "# Verify that there are now seven X vars: 'test_veh_displacement_l', \n",
    "#                                            'rated_horsepower',\n",
    "#                                            'axle_ratio', \n",
    "#                                            'nv_ratio',\n",
    "#                                            'is_type_Trucks',\n",
    "#                                            'is_type_Cars',\n",
    "#                                            'is_type_Boths',\n",
    "\n",
    "X_train.shape"
   ]
  },
  {
   "cell_type": "markdown",
   "metadata": {},
   "source": [
    "### Predict on the Validation data subset\n"
   ]
  },
  {
   "cell_type": "code",
   "execution_count": 41,
   "metadata": {},
   "outputs": [
    {
     "name": "stdout",
     "output_type": "stream",
     "text": [
      "validation: 3146313103404116.5\n"
     ]
    }
   ],
   "source": [
    "\n",
    "w_0, w = train_linear_regression(X_train, y_train)\n",
    "\n",
    "X_val = prepare1_X(df_val)\n",
    "y_pred = w_0 + X_val.dot(w)\n",
    "print('validation:', rmse(y_val, y_pred))"
   ]
  },
  {
   "cell_type": "markdown",
   "metadata": {},
   "source": [
    "#### Demo Remarks\n",
    "So, this is an illustration of how to adapt a template Jupyter Notebook to a new project and new dataset.\n",
    "\n",
    "This is what you do in your Porject 1. And of course you can use this notebook as your template.\n",
    "\n",
    "Make sure to continue in the next steps to include Regulatization in the model fitting."
   ]
  },
  {
   "cell_type": "code",
   "execution_count": null,
   "metadata": {},
   "outputs": [],
   "source": []
  },
  {
   "cell_type": "code",
   "execution_count": null,
   "metadata": {},
   "outputs": [],
   "source": []
  },
  {
   "cell_type": "code",
   "execution_count": null,
   "metadata": {},
   "outputs": [],
   "source": []
  },
  {
   "cell_type": "markdown",
   "metadata": {},
   "source": [
    "## Regularization"
   ]
  },
  {
   "cell_type": "code",
   "execution_count": 42,
   "metadata": {},
   "outputs": [],
   "source": [
    "def train_linear_regression_reg(X, y, r=0.0):\n",
    "    ones = np.ones(X.shape[0])\n",
    "    X = np.column_stack([ones, X])\n",
    "\n",
    "    XTX = X.T.dot(X)\n",
    "    reg = r * np.eye(XTX.shape[0])\n",
    "    XTX = XTX + reg\n",
    "\n",
    "    XTX_inv = np.linalg.inv(XTX)\n",
    "    w = XTX_inv.dot(X.T).dot(y)\n",
    "    \n",
    "    return w[0], w[1:]"
   ]
  },
  {
   "cell_type": "code",
   "execution_count": 43,
   "metadata": {},
   "outputs": [],
   "source": [
    "X_train = prepare1_X(df_train)"
   ]
  },
  {
   "cell_type": "code",
   "execution_count": 44,
   "metadata": {},
   "outputs": [
    {
     "name": "stdout",
     "output_type": "stream",
     "text": [
      "    0, -519840755144779.00, -10514575400009.88, -232772942895353.75\n",
      "0.001, -0.20, -0.00, 0.07\n",
      " 0.01, -0.20, -0.00, 0.07\n",
      "  0.1, -0.20, -0.00, 0.07\n",
      "    1, -0.19, -0.00, 0.06\n",
      "   10, -0.13, -0.00, 0.05\n"
     ]
    }
   ],
   "source": [
    "for r in [0, 0.001, 0.01, 0.1, 1, 10]:\n",
    "    w_0, w = train_linear_regression_reg(X_train, y_train, r=r)\n",
    "    print('%5s, %.2f, %.2f, %.2f' % (r, w_0, w[1], w[2]))"
   ]
  },
  {
   "cell_type": "code",
   "execution_count": 45,
   "metadata": {},
   "outputs": [
    {
     "name": "stdout",
     "output_type": "stream",
     "text": [
      "train 3432041599574867.5\n",
      "val 3146313103404116.5\n"
     ]
    }
   ],
   "source": [
    "X_train = prepare1_X(df_train)\n",
    "w_0, w = train_linear_regression_reg(X_train, y_train, r=0)\n",
    "\n",
    "y_pred = w_0 + X_train.dot(w)\n",
    "print('train', rmse(y_train, y_pred))\n",
    "\n",
    "X_val = prepare1_X(df_val)\n",
    "y_pred = w_0 + X_val.dot(w)\n",
    "print('val', rmse(y_val, y_pred))"
   ]
  },
  {
   "cell_type": "code",
   "execution_count": 46,
   "metadata": {},
   "outputs": [
    {
     "name": "stdout",
     "output_type": "stream",
     "text": [
      "train 0.32604618033875415\n",
      "val 176.1380750046288\n"
     ]
    }
   ],
   "source": [
    "X_train = prepare1_X(df_train)\n",
    "w_0, w = train_linear_regression_reg(X_train, y_train, r=0.01)\n",
    "\n",
    "y_pred = w_0 + X_train.dot(w)\n",
    "print('train', rmse(y_train, y_pred))\n",
    "\n",
    "X_val = prepare1_X(df_val)\n",
    "y_pred = w_0 + X_val.dot(w)\n",
    "print('val', rmse(y_val, y_pred))"
   ]
  },
  {
   "cell_type": "code",
   "execution_count": 47,
   "metadata": {},
   "outputs": [
    {
     "name": "stdout",
     "output_type": "stream",
     "text": [
      " 1e-06 5164.83504648929\n",
      "0.0001 3935.3864758487402\n",
      " 0.001 1256.1646803630322\n",
      "  0.01 176.1380750046288\n",
      "   0.1 22.584090170264304\n",
      "     1 2.731105115868643\n",
      "     5 0.710422934051244\n",
      "    10 0.488969182231905\n"
     ]
    }
   ],
   "source": [
    "X_train = prepare1_X(df_train)\n",
    "X_val = prepare1_X(df_val)\n",
    "\n",
    "for r in [0.000001, 0.0001, 0.001, 0.01, 0.1, 1, 5, 10]:\n",
    "    w_0, w = train_linear_regression_reg(X_train, y_train, r=r)\n",
    "    y_pred = w_0 + X_val.dot(w)\n",
    "    print('%6s' %r, rmse(y_val, y_pred))"
   ]
  },
  {
   "cell_type": "code",
   "execution_count": 48,
   "metadata": {},
   "outputs": [
    {
     "name": "stdout",
     "output_type": "stream",
     "text": [
      "validation: 0.488969182231905\n",
      "test: 0.5923212804515362\n"
     ]
    }
   ],
   "source": [
    "X_train = prepare1_X(df_train)\n",
    "w_0, w = train_linear_regression_reg(X_train, y_train, r=10)\n",
    "\n",
    "X_val = prepare1_X(df_val)\n",
    "y_pred = w_0 + X_val.dot(w)\n",
    "print('validation:', rmse(y_val, y_pred))\n",
    "\n",
    "X_test = prepare1_X(df_test)\n",
    "y_pred = w_0 + X_test.dot(w)\n",
    "print('test:', rmse(y_test, y_pred))"
   ]
  },
  {
   "cell_type": "markdown",
   "metadata": {},
   "source": [
    "## Using the model"
   ]
  },
  {
   "cell_type": "code",
   "execution_count": 49,
   "metadata": {},
   "outputs": [
    {
     "data": {
      "text/plain": [
       "{'model_year': 2024,\n",
       " 'vehicle_manufacturer_name': 'Mercedes-Benz',\n",
       " 'veh_mfr_code': 'MBX',\n",
       " 'represented_test_veh_make': 'Mercedes-Benz',\n",
       " 'represented_test_veh_model': 'CLA 250 4MATIC',\n",
       " 'test_vehicle_id': 'C118E20DETC-Z2462',\n",
       " 'test_veh_configuration_': 0,\n",
       " 'test_veh_displacement_l': 1.991,\n",
       " 'actual_tested_testgroup': 'RMBXJ02.0HY2',\n",
       " 'vehicle_type': 'Both',\n",
       " 'rated_horsepower': 221,\n",
       " '_of_cylinders_and_rotors': 4.0,\n",
       " 'engine_code': 'M260-20DETC',\n",
       " 'tested_transmission_type_code': 'AM',\n",
       " 'tested_transmission_type': 'Automated Manual',\n",
       " '_of_gears': 8,\n",
       " 'transmission_lockup': 'Y',\n",
       " 'drive_system_code': 'A',\n",
       " 'drive_system_description': 'All Wheel Drive',\n",
       " 'transmission_overdrive_code': 2,\n",
       " 'transmission_overdrive_desc': 'Top gear ratio < 1',\n",
       " 'equivalent_test_weight_lbs': 3875,\n",
       " 'axle_ratio': 2.68,\n",
       " 'nv_ratio': 24.1,\n",
       " 'shift_indicator_light_use_cd': 1,\n",
       " 'shift_indicator_light_use_desc': 'Not eqipped',\n",
       " 'test_number': 'RMBX10082670',\n",
       " 'test_originator': 'MFR',\n",
       " 'analytically_derived_fe': 'No',\n",
       " 'adfe_test_number': nan,\n",
       " 'adfe_total_road_load_hp': nan,\n",
       " 'adfe_equiv_test_weight_lbs': nan,\n",
       " 'adfe_nv_ratio': nan,\n",
       " 'test_procedure_cd': 3,\n",
       " 'test_procedure_description': 'HWFE',\n",
       " 'test_fuel_type_cd': 61,\n",
       " 'test_fuel_type_description': 'Tier 2 Cert Gasoline',\n",
       " 'test_category': 'HWY',\n",
       " 'thc_gmi': 0.0001609,\n",
       " 'co2_gmi': 176.0457973,\n",
       " 'nox_gmi': 0.0016093,\n",
       " 'pm_gmi': nan,\n",
       " 'ch4_gmi': 0.0001609,\n",
       " 'n2o_gmi': 0.0,\n",
       " 'rnd_adj_fe': 50.6,\n",
       " 'fe_unit': 'MPG',\n",
       " 'fe_bag_1': nan,\n",
       " 'fe_bag_2': nan,\n",
       " 'fe_bag_3': nan,\n",
       " 'fe_bag_4': nan,\n",
       " 'dtinertia_work_ratio_rating': -1.7436,\n",
       " 'dtabsolute_speed_change_ratg': -1.3961,\n",
       " 'dtenergy_economy_rating': -0.8271,\n",
       " 'target_coef_a_lbf': 32.6,\n",
       " 'target_coef_b_lbfmph': 0.4449,\n",
       " 'target_coef_c_lbfmph2': 0.0149,\n",
       " 'set_coef_a_lbf': 10.47,\n",
       " 'set_coef_b_lbfmph': 0.1176,\n",
       " 'set_coef_c_lbfmph2': 0.01622,\n",
       " 'aftertreatment_device_cd': 'TWC',\n",
       " 'aftertreatment_device_desc': 'Three-way catalyst',\n",
       " 'police__emergency_vehicle': 'N',\n",
       " 'averaging_group_id': nan,\n",
       " 'averaging_weighting_factor': nan,\n",
       " 'averaging_method_cd': 'N',\n",
       " 'averging_method_desc': 'No averaging'}"
      ]
     },
     "execution_count": 49,
     "metadata": {},
     "output_type": "execute_result"
    }
   ],
   "source": [
    "# Let us select a vehicle in the Test set to predict its CO emission\n",
    "# with index=2, this is a 2024, Mercedes-Benz, Model: CLA 250 4MATIC\n",
    "\n",
    "i = 2\n",
    "ad = df_test.iloc[i].to_dict()\n",
    "ad"
   ]
  },
  {
   "cell_type": "code",
   "execution_count": 50,
   "metadata": {},
   "outputs": [
    {
     "data": {
      "text/plain": [
       "0.048658476101827275"
      ]
     },
     "execution_count": 50,
     "metadata": {},
     "output_type": "execute_result"
    }
   ],
   "source": [
    "X_test = prepare1_X(pd.DataFrame([ad]))[0]\n",
    "y_pred = w_0 + X_test.dot(w)\n",
    "co_gmi_predicted = np.expm1(y_pred)\n",
    "co_gmi_predicted"
   ]
  },
  {
   "cell_type": "code",
   "execution_count": 51,
   "metadata": {},
   "outputs": [
    {
     "data": {
      "text/plain": [
       "0.1213448"
      ]
     },
     "execution_count": 51,
     "metadata": {},
     "output_type": "execute_result"
    }
   ],
   "source": [
    "# Here is the value of the observed CO(g/mi) in data sample i=2 in Y-test set\n",
    "co_gmi_observed = y_test[i]\n",
    "co_gmi_observed"
   ]
  },
  {
   "cell_type": "markdown",
   "metadata": {},
   "source": [
    "### Final Remarks\n",
    "\n",
    "These final results,co_gmi_predicted and co_gmi_observed, must now be assessed by an Environmental Engineer via domain-knowledge to decide if the model is accurate enough in its predictions.\n",
    "\n",
    "Of course, you can go back up and try to improve your model:\n",
    "1. What if you use a different set of X-variables?\n",
    "2. What if a data transformation such as log-transformation is implememented on the data X and/or Y vars?\n",
    "3. What if you group the main dataset according to certain obvious factor such as test-Fuel type?\n",
    "4. And many more...usually with the input of other experts. Some publications about the subject might also help you on how to improve your model."
   ]
  }
 ],
 "metadata": {
  "anaconda-cloud": {},
  "kernelspec": {
   "display_name": "Python [conda env:Session1] *",
   "language": "python",
   "name": "conda-env-Session1-py"
  },
  "language_info": {
   "codemirror_mode": {
    "name": "ipython",
    "version": 3
   },
   "file_extension": ".py",
   "mimetype": "text/x-python",
   "name": "python",
   "nbconvert_exporter": "python",
   "pygments_lexer": "ipython3",
   "version": "3.12.8"
  }
 },
 "nbformat": 4,
 "nbformat_minor": 4
}
